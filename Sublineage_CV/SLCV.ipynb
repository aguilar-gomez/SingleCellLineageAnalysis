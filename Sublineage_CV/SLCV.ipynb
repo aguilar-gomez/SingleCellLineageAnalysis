{
 "cells": [
  {
   "cell_type": "code",
   "execution_count": 1,
   "metadata": {},
   "outputs": [],
   "source": [
    "import numpy as np\n",
    "import scipy.stats as ss\n",
    "import matplotlib.pyplot as plt\n",
    "import matplotlib.patches as ptc\n",
    "import matplotlib.lines as ln\n",
    "import matplotlib.cm as cm\n",
    "import itertools\n",
    "import random as rn\n",
    "import seaborn as sns\n",
    "import pandas as pd"
   ]
  },
  {
   "cell_type": "code",
   "execution_count": 2,
   "metadata": {},
   "outputs": [],
   "source": [
    "def opentable(file,n): \n",
    "    '''\n",
    "    Read file from Phylocell Matlab that is in a format of a table where the columns are:\n",
    "    experiment    position    mother_cell/lineage   cell   t1    t2    ...    tn\n",
    "    \n",
    "    ti is a measurement (i.e. fluorescence in timepoint i)\n",
    "    \n",
    "    Convert table to dictionary\n",
    "    '''\n",
    "    dicfluo={}\n",
    "    temp=np.zeros(n)\n",
    "    with open(file, 'rb') as csvfile:\n",
    "        fluofile = np.genfromtxt(csvfile, delimiter=',')\n",
    "        for row in fluofile:\n",
    "            exp=row[0]\n",
    "            pos=row[1]\n",
    "            lin=row[2]\n",
    "            cell=row[3]\n",
    "            fluorescence= row[4:n+4]\n",
    "            dicfluo.setdefault(exp,{}).setdefault(pos, {}).setdefault(lin, {})[cell]=fluorescence\n",
    "            \n",
    "    return dicfluo"
   ]
  },
  {
   "cell_type": "code",
   "execution_count": 3,
   "metadata": {},
   "outputs": [],
   "source": [
    "def tlinfluomean(time,dicPosMomDF):\n",
    "    '''\n",
    "    Function that returns the MEAN fluorescence of a LINEAGE the in a dictionary in a requested timepoint\n",
    "    '''\n",
    "    alllineages=[]\n",
    "    for exp in dicPosMomDF.keys():\n",
    "            for pos in dicPosMomDF[exp].keys():\n",
    "                for lineage in dicPosMomDF[exp][pos].keys():\n",
    "                    lineagefluo=[]\n",
    "                    for cell in dicPosMomDF[exp][pos][lineage].keys():\n",
    "                        fluotn=dicPosMomDF[exp][pos][lineage][cell][time]\n",
    "                        lineagefluo.append(fluotn)\n",
    "                    alllineages.append(np.mean(lineagefluo))\n",
    "                    \n",
    "    return alllineages\n",
    "   "
   ]
  },
  {
   "cell_type": "code",
   "execution_count": 4,
   "metadata": {},
   "outputs": [],
   "source": [
    "def slcv(dicWT,time):\n",
    "    '''\n",
    "    Sublineage Coefficient of Variation\n",
    "    '''\n",
    "    slcv=[]\n",
    "    for a in range(0,time):\n",
    "        #Get the fluorescence of each LINEAGE \n",
    "        alllineages=tlinfluomean(a,dicWT)\n",
    "        #Calculate the mean fluorescence of the LINEAGES\n",
    "        meanlineages=np.mean(alllineages)\n",
    "        #Calculate SLCV \n",
    "        slcv.append(np.std([alllineages])/meanlineages)     \n",
    "    return slcv   "
   ]
  },
  {
   "cell_type": "code",
   "execution_count": 5,
   "metadata": {},
   "outputs": [],
   "source": [
    "def bootstrap(dicPosMomDF):\n",
    "    '''\n",
    "    Bootraping Sublineage Coefficient of Variation\n",
    "    '''\n",
    "    bootstrap=[]\n",
    "    for a in range(0,50):\n",
    "        alllineages=tlinfluomean(a,dicPosMomDF)\n",
    "        bootWT=[rn.choice(alllineages) for _ in range(len(alllineages))]\n",
    "        meanbootWT=np.mean(bootWT)\n",
    "        bootstrap.append(np.std([bootWT])/meanbootWT)    \n",
    "    return bootstrap"
   ]
  },
  {
   "cell_type": "code",
   "execution_count": 6,
   "metadata": {},
   "outputs": [],
   "source": [
    "def errorbars(dicWT,time,bootsample):\n",
    "    error_bar=[]\n",
    "    for a in range(bootsample):\n",
    "        error_bar.append(bootstrap(dicWT))\n",
    "        \n",
    "    bootmean=[np.mean([sample[a] for sample in error_bar]) for a in range(time)]\n",
    "    bootstd=[np.std([sample[a] for sample in error_bar]) for a in range(time)]\n",
    "    \n",
    "    return [bootmean,bootstd]\n",
    "    "
   ]
  },
  {
   "cell_type": "code",
   "execution_count": 7,
   "metadata": {},
   "outputs": [],
   "source": [
    "time=50\n",
    "dicWT=opentable('WT.csv',time)\n",
    "dicE6=opentable('Mutant.csv',time)\n",
    "#Set random seed\n",
    "np.random.seed(100)\n",
    "colors=[\"purple\",\"blue\"]\n",
    "labels=['WT','mutant']"
   ]
  },
  {
   "cell_type": "code",
   "execution_count": 8,
   "metadata": {},
   "outputs": [],
   "source": [
    "slcvWT=slcv(dicWT,time)\n",
    "slcvE6=slcv(dicE6,time)\n",
    "bootmeanWT,bootstdWT=errorbars(dicWT,time,100)\n",
    "bootmeanE6,bootstdE6=errorbars(dicE6,time,100)"
   ]
  },
  {
   "cell_type": "code",
   "execution_count": 9,
   "metadata": {},
   "outputs": [
    {
     "data": {
      "image/png": "[encoded data removed]",
      "text/plain": [
       "<Figure size 432x288 with 1 Axes>"
      ]
     },
     "metadata": {
      "needs_background": "light"
     },
     "output_type": "display_data"
    }
   ],
   "source": [
    "plt.errorbar(range(time),bootmeanWT,yerr=bootstdWT,mew=.5, fmt='o',lw=1,color=colors[0],ms=4,capsize=1,mec=\"k\")\n",
    "plt.errorbar(range(time),bootmeanE6,yerr=bootstdE6,mew=.5, fmt='o',lw=1,color=colors[1],ms=4,capsize=1,mec=\"k\")\n",
    "\n",
    "patch = ptc.Patch(color=colors[0], label=labels[0])\n",
    "patch2 = ptc.Patch(color=colors[1], label=labels[1])\n",
    "lgd=plt.legend(handles=[patch,patch2],bbox_to_anchor=(1.05, 1), loc=2, borderaxespad=0.,handlelength=1, handleheight=1,frameon=False)\n",
    "\n",
    "\n",
    "plt.ylabel('SLCV')\n",
    "plt.tick_params(axis='both', which='major', labelsize=8)\n",
    "plt.tick_params(axis='both', which='minor', labelsize=8)\n",
    "plt.xlabel('Time')\n",
    "\n",
    "plt.savefig('SLCV.pdf',format='pdf', dpi=500,bbox_extra_artists=(lgd,), bbox_inches='tight')\n",
    "plt.show()"
   ]
  }
 ],
 "metadata": {
  "kernelspec": {
   "display_name": "Python 3",
   "language": "python",
   "name": "python3"
  },
  "language_info": {
   "codemirror_mode": {
    "name": "ipython",
    "version": 3
   },
   "file_extension": ".py",
   "mimetype": "text/x-python",
   "name": "python",
   "nbconvert_exporter": "python",
   "pygments_lexer": "ipython3",
   "version": "3.7.3"
  }
 },
 "nbformat": 4,
 "nbformat_minor": 2
}
