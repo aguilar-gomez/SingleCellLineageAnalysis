{
 "cells": [
  {
   "cell_type": "code",
   "execution_count": 1,
   "metadata": {},
   "outputs": [],
   "source": [
    "import numpy as np\n",
    "import scipy.stats as ss\n",
    "import matplotlib.pyplot as plt\n",
    "import pandas as pd"
   ]
  },
  {
   "cell_type": "code",
   "execution_count": 2,
   "metadata": {},
   "outputs": [],
   "source": [
    "'''Set parameters:\n",
    "\n",
    "     The file to be read contains the following columns:\n",
    "    1. experiment\n",
    "    2. position in the microscope\n",
    "    3. mother cell (same as cell number when it is the first of the lineage)\n",
    "    4. cell number\n",
    "    5-n. timepoints measured \n",
    "    \n",
    "    num_timepoints: number of timepoints measured\n",
    "    \n",
    "'''\n",
    "filename='MotherDaughterWT.txt'\n",
    "num_timepoints=51"
   ]
  },
  {
   "cell_type": "code",
   "execution_count": 3,
   "metadata": {},
   "outputs": [],
   "source": [
    "def partial_corr(momFluo,daughterFluo,MeanFluo):\n",
    "    A = np.vstack([MeanFluo, np.ones(len(MeanFluo))]).T\n",
    "    #Linear Regression to controlling variable\n",
    "    beta_i = np.linalg.lstsq(A, momFluo,rcond=-1)[0]\n",
    "    beta_j = np.linalg.lstsq(A,daughterFluo,rcond=-1)[0]\n",
    "    #Get the residues, whatever is not explained by the controlling variable\n",
    "    res_j = momFluo - A.dot( beta_i)\n",
    "    res_i = daughterFluo - A.dot(beta_j)\n",
    "    #Calculate correlation of the residuals     \n",
    "    corr = ss.pearsonr(res_i, res_j)[0]\n",
    "    return corr"
   ]
  },
  {
   "cell_type": "code",
   "execution_count": 4,
   "metadata": {},
   "outputs": [],
   "source": [
    "data=pd.read_table(filename,names=[\"exp\",\"pos\",\"mother\",\"cell\"]+list(range(num_timepoints)))\n",
    "data.set_index([\"exp\",\"pos\",\"mother\",\"cell\"],inplace=True)\n",
    "mean_fluo=data.mean()\n",
    "datadic=data.to_dict(\"index\")"
   ]
  },
  {
   "cell_type": "code",
   "execution_count": 5,
   "metadata": {},
   "outputs": [],
   "source": [
    "RelatedParCorr=[]\n",
    "RelatedCorr=[]\n",
    "for cell in datadic.keys():\n",
    "    for cell2 in datadic.keys():\n",
    "        exp,pos,mother,celln=cell\n",
    "        fluo=list(datadic[cell].values())\n",
    "        exp2,pos2,mother2,celln2=cell2\n",
    "        fluo2=list(datadic[cell2].values())\n",
    "        if exp==exp2 and pos==pos2 and mother2==mother and cell!=cell2:\n",
    "            RelatedParCorr.append(partial_corr(fluo,fluo2,mean_fluo))\n",
    "            RelatedCorr.append(ss.pearsonr(fluo, fluo2)[0])"
   ]
  },
  {
   "cell_type": "code",
   "execution_count": 6,
   "metadata": {},
   "outputs": [
    {
     "data": {
      "image/png": "[encoded data removed]",
      "text/plain": [
       "<Figure size 432x288 with 1 Axes>"
      ]
     },
     "metadata": {
      "needs_background": "light"
     },
     "output_type": "display_data"
    }
   ],
   "source": [
    "\n",
    "colors=[\"purple\",\"blue\"]\n",
    "meanpointprops = dict(marker='D', markeredgecolor='black',\n",
    "                      markerfacecolor='k',markersize=7)\n",
    "\n",
    "box=plt.boxplot([RelatedParCorr,RelatedCorr],patch_artist=True,meanprops=meanpointprops,showmeans=True,widths=.7)\n",
    "plt.setp(box['whiskers'], color='k', linewidth=1.5)\n",
    "plt.setp(box['caps'], color='w', linewidth=1.5)\n",
    "plt.setp(box['medians'], color='k', linewidth=1.5)\n",
    "plt.ylabel('Correlation',fontsize=14)\n",
    "\n",
    "for bx in box['boxes']:\n",
    "    bx.set( color='k', linewidth=1.5) \n",
    "\n",
    "for patch, color in zip(box['boxes'], colors):\n",
    "    patch.set_facecolor(color)\n",
    "    r, g, b, a = patch.get_facecolor()\n",
    "    patch.set_facecolor((r, g, b, .55))\n",
    "\n",
    "plt.xticks([1,2],[\"Partial\",\"Regular\"],fontsize=14)  \n",
    "plt.tight_layout()\n",
    "plt.show()"
   ]
  }
 ],
 "metadata": {
  "kernelspec": {
   "display_name": "Python 3",
   "language": "python",
   "name": "python3"
  },
  "language_info": {
   "codemirror_mode": {
    "name": "ipython",
    "version": 3
   },
   "file_extension": ".py",
   "mimetype": "text/x-python",
   "name": "python",
   "nbconvert_exporter": "python",
   "pygments_lexer": "ipython3",
   "version": "3.7.3"
  }
 },
 "nbformat": 4,
 "nbformat_minor": 1
}
